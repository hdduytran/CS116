{
  "nbformat": 4,
  "nbformat_minor": 0,
  "metadata": {
    "colab": {
      "name": "Classifications.ipynb",
      "provenance": [],
      "toc_visible": true
    },
    "kernelspec": {
      "name": "python3",
      "display_name": "Python 3"
    },
    "language_info": {
      "name": "python"
    }
  },
  "cells": [
    {
      "cell_type": "markdown",
      "metadata": {
        "id": "NP9dXIrJzEry"
      },
      "source": [
        "Trần Hoàn Đức Duy - 19521434"
      ]
    },
    {
      "cell_type": "code",
      "metadata": {
        "colab": {
          "base_uri": "https://localhost:8080/"
        },
        "id": "gaF0z6YrOQzl",
        "outputId": "1310fa85-38c6-48c6-89d2-2802d5d9597e"
      },
      "source": [
        "%cd /content/drive/MyDrive/Programming/Python for machine learning"
      ],
      "execution_count": null,
      "outputs": [
        {
          "output_type": "stream",
          "name": "stdout",
          "text": [
            "/content/drive/MyDrive/Programming/Python for machine learning\n"
          ]
        }
      ]
    },
    {
      "cell_type": "markdown",
      "metadata": {
        "id": "X3RWqhiEaHCl"
      },
      "source": [
        "#Bước 1: Đọc dữ liệu từ file .csv"
      ]
    },
    {
      "cell_type": "code",
      "metadata": {
        "id": "0xYioP8LOuZl"
      },
      "source": [
        "import pandas as pd\n",
        "import numpy as np\n",
        "import matplotlib.pyplot as plt\n",
        "from sklearn.preprocessing import StandardScaler\n",
        "from sklearn.model_selection import train_test_split\n",
        "\n",
        "import warnings\n",
        "warnings.filterwarnings('ignore')"
      ],
      "execution_count": null,
      "outputs": []
    },
    {
      "cell_type": "code",
      "metadata": {
        "colab": {
          "base_uri": "https://localhost:8080/",
          "height": 204
        },
        "id": "HYk_Ar_lQVJg",
        "outputId": "38f3d34c-356a-4ec2-bd34-82bf6dc1023e"
      },
      "source": [
        "ds = pd.read_csv('data/Social_Network_Ads.csv')\n",
        "ds.tail()"
      ],
      "execution_count": null,
      "outputs": [
        {
          "output_type": "execute_result",
          "data": {
            "text/html": [
              "<div>\n",
              "<style scoped>\n",
              "    .dataframe tbody tr th:only-of-type {\n",
              "        vertical-align: middle;\n",
              "    }\n",
              "\n",
              "    .dataframe tbody tr th {\n",
              "        vertical-align: top;\n",
              "    }\n",
              "\n",
              "    .dataframe thead th {\n",
              "        text-align: right;\n",
              "    }\n",
              "</style>\n",
              "<table border=\"1\" class=\"dataframe\">\n",
              "  <thead>\n",
              "    <tr style=\"text-align: right;\">\n",
              "      <th></th>\n",
              "      <th>Age</th>\n",
              "      <th>EstimatedSalary</th>\n",
              "      <th>Purchased</th>\n",
              "    </tr>\n",
              "  </thead>\n",
              "  <tbody>\n",
              "    <tr>\n",
              "      <th>395</th>\n",
              "      <td>46</td>\n",
              "      <td>41000</td>\n",
              "      <td>1</td>\n",
              "    </tr>\n",
              "    <tr>\n",
              "      <th>396</th>\n",
              "      <td>51</td>\n",
              "      <td>23000</td>\n",
              "      <td>1</td>\n",
              "    </tr>\n",
              "    <tr>\n",
              "      <th>397</th>\n",
              "      <td>50</td>\n",
              "      <td>20000</td>\n",
              "      <td>1</td>\n",
              "    </tr>\n",
              "    <tr>\n",
              "      <th>398</th>\n",
              "      <td>36</td>\n",
              "      <td>33000</td>\n",
              "      <td>0</td>\n",
              "    </tr>\n",
              "    <tr>\n",
              "      <th>399</th>\n",
              "      <td>49</td>\n",
              "      <td>36000</td>\n",
              "      <td>1</td>\n",
              "    </tr>\n",
              "  </tbody>\n",
              "</table>\n",
              "</div>"
            ],
            "text/plain": [
              "     Age  EstimatedSalary  Purchased\n",
              "395   46            41000          1\n",
              "396   51            23000          1\n",
              "397   50            20000          1\n",
              "398   36            33000          0\n",
              "399   49            36000          1"
            ]
          },
          "metadata": {},
          "execution_count": 147
        }
      ]
    },
    {
      "cell_type": "markdown",
      "metadata": {
        "id": "34Dn7C4aaUIu"
      },
      "source": [
        "#Bước 2: Phân chia dữ liệu thành tập train và tập test theo tỉ lệ 8:2"
      ]
    },
    {
      "cell_type": "code",
      "metadata": {
        "id": "osH0Y285Qmw6"
      },
      "source": [
        "X, y = ds.iloc[:,:-1],ds.iloc[:,-1]\n",
        "X_train, X_val, y_train, y_val = train_test_split(X,y,test_size = 0.2,random_state = 1)"
      ],
      "execution_count": null,
      "outputs": []
    },
    {
      "cell_type": "code",
      "metadata": {
        "id": "5YnOfd8uRUPD"
      },
      "source": [
        "def plot(X,y):\n",
        "  pos = y==1\n",
        "  nev = y==0\n",
        "  plt.scatter(X[pos,0],X[pos,1],marker='o',color = 'red')\n",
        "  plt.scatter(X[nev,0],X[nev,1],marker='v')\n",
        "  plt.show()"
      ],
      "execution_count": null,
      "outputs": []
    },
    {
      "cell_type": "code",
      "metadata": {
        "colab": {
          "base_uri": "https://localhost:8080/",
          "height": 265
        },
        "id": "Tz1mWR8DTMdY",
        "outputId": "8fed9f52-2f84-44b7-c377-ebd1525df909"
      },
      "source": [
        "plot(X_train.to_numpy(),y_train.to_numpy())"
      ],
      "execution_count": null,
      "outputs": [
        {
          "output_type": "display_data",
          "data": {
            "image/png": "[encoded data removed]",
            "text/plain": [
              "<Figure size 432x288 with 1 Axes>"
            ]
          },
          "metadata": {
            "needs_background": "light"
          }
        }
      ]
    },
    {
      "cell_type": "markdown",
      "metadata": {
        "id": "6s94OLxvaNa1"
      },
      "source": [
        "#Bước 3: Chuẩn hóa dữ liệu"
      ]
    },
    {
      "cell_type": "code",
      "metadata": {
        "id": "M_hW2TggUPxj"
      },
      "source": [
        "scaler = StandardScaler()\n",
        "scaler = scaler.fit(X_train)\n",
        "X_train = scaler.transform(X_train)\n",
        "X_val = scaler.transform(X_val)"
      ],
      "execution_count": null,
      "outputs": []
    },
    {
      "cell_type": "code",
      "metadata": {
        "colab": {
          "base_uri": "https://localhost:8080/",
          "height": 265
        },
        "id": "DSn1qLytXcT0",
        "outputId": "6e32a20f-9020-4bf2-dc48-0d8449ad47c9"
      },
      "source": [
        "plot(X_train, y_train)"
      ],
      "execution_count": null,
      "outputs": [
        {
          "output_type": "display_data",
          "data": {
            "image/png": "[encoded data removed]",
            "text/plain": [
              "<Figure size 432x288 with 1 Axes>"
            ]
          },
          "metadata": {
            "needs_background": "light"
          }
        }
      ]
    },
    {
      "cell_type": "markdown",
      "metadata": {
        "id": "zrHY13vMar23"
      },
      "source": [
        "#Bước 4: Khởi tạo và huấn luyện các mô hình Bước 5: Infer và đánh giá mô hình với độ đo accuracy Bước 6: (bonus) trực quan hóa kết quả của mô hình vừa huấn luyện"
      ]
    },
    {
      "cell_type": "code",
      "metadata": {
        "id": "gnEdGkaBcfhH"
      },
      "source": [
        "def accuracies(model):\n",
        "  print('Train accuracy: {}'.format(model.score(X_train,y_train)))\n",
        "  print('Val accuracy: {}'.format(model.score(X_val,y_val)))"
      ],
      "execution_count": null,
      "outputs": []
    },
    {
      "cell_type": "code",
      "metadata": {
        "id": "3y5Yh45Lef8v"
      },
      "source": [
        "def model_visualization(model):\n",
        "  x_min, x_max = -4,4\n",
        "  y_min, y_max = -4,4\n",
        "  xx, yy = np.meshgrid(np.arange(x_min, x_max, 0.1),\n",
        "                     np.arange(y_min, y_max, 0.1))\n",
        "  Z = model.predict(np.c_[xx.ravel(), yy.ravel()])\n",
        "  Z = Z.reshape(xx.shape)\n",
        "  \n",
        "  plt.contourf(xx,yy,Z,alpha = 0.4)\n",
        "  plot(X_val,y_val)"
      ],
      "execution_count": null,
      "outputs": []
    },
    {
      "cell_type": "code",
      "metadata": {
        "id": "s02lkUJBgZUF"
      },
      "source": [
        "def model_evaluation(model):\n",
        "  accuracies(model)\n",
        "  model_visualization(model)"
      ],
      "execution_count": null,
      "outputs": []
    },
    {
      "cell_type": "markdown",
      "metadata": {
        "id": "h3dlMLopbCfi"
      },
      "source": [
        "##Logistic repression"
      ]
    },
    {
      "cell_type": "code",
      "metadata": {
        "id": "UfEx9pDrawoi"
      },
      "source": [
        "from sklearn.linear_model import LogisticRegression"
      ],
      "execution_count": null,
      "outputs": []
    },
    {
      "cell_type": "code",
      "metadata": {
        "id": "QW7S8hsXbiK_"
      },
      "source": [
        "model_LR = LogisticRegression().fit(X_train,y_train)"
      ],
      "execution_count": null,
      "outputs": []
    },
    {
      "cell_type": "code",
      "metadata": {
        "colab": {
          "base_uri": "https://localhost:8080/",
          "height": 299
        },
        "id": "5BkdKaOMbqjM",
        "outputId": "c77e0920-cbd0-4288-8129-6372cab6428b"
      },
      "source": [
        "model_evaluation(model_LR)"
      ],
      "execution_count": null,
      "outputs": [
        {
          "output_type": "stream",
          "name": "stdout",
          "text": [
            "Train accuracy: 0.84375\n",
            "Val accuracy: 0.8375\n"
          ]
        },
        {
          "output_type": "display_data",
          "data": {
            "image/png": "[encoded data removed]",
            "text/plain": [
              "<Figure size 432x288 with 1 Axes>"
            ]
          },
          "metadata": {
            "needs_background": "light"
          }
        }
      ]
    },
    {
      "cell_type": "markdown",
      "metadata": {
        "id": "rpyMGKTdgpkd"
      },
      "source": [
        "##K-Nearest Neighbor"
      ]
    },
    {
      "cell_type": "code",
      "metadata": {
        "colab": {
          "base_uri": "https://localhost:8080/",
          "height": 299
        },
        "id": "RCZp7S61gjI3",
        "outputId": "3fd8c637-3757-4868-e987-3fa5ce08c7eb"
      },
      "source": [
        "from sklearn.neighbors import KNeighborsClassifier\n",
        "model_KNN = KNeighborsClassifier(n_neighbors = 3)\n",
        "model_KNN.fit(X_train,y_train)\n",
        "model_evaluation(model_KNN)"
      ],
      "execution_count": null,
      "outputs": [
        {
          "output_type": "stream",
          "name": "stdout",
          "text": [
            "Train accuracy: 0.94375\n",
            "Val accuracy: 0.875\n"
          ]
        },
        {
          "output_type": "display_data",
          "data": {
            "image/png": "[encoded data removed]",
            "text/plain": [
              "<Figure size 432x288 with 1 Axes>"
            ]
          },
          "metadata": {
            "needs_background": "light"
          }
        }
      ]
    },
    {
      "cell_type": "markdown",
      "metadata": {
        "id": "hWsXflW7ih4k"
      },
      "source": [
        "##SVM"
      ]
    },
    {
      "cell_type": "code",
      "metadata": {
        "colab": {
          "base_uri": "https://localhost:8080/",
          "height": 299
        },
        "id": "spT0Um1Bijhw",
        "outputId": "56e61943-bbae-45da-91d7-aad871b8d72e"
      },
      "source": [
        "from sklearn.svm import SVC\n",
        "model_SVC = SVC(kernel = 'linear')\n",
        "model_SVC.fit(X_train,y_train)\n",
        "model_evaluation(model_SVC)"
      ],
      "execution_count": null,
      "outputs": [
        {
          "output_type": "stream",
          "name": "stdout",
          "text": [
            "Train accuracy: 0.846875\n",
            "Val accuracy: 0.8375\n"
          ]
        },
        {
          "output_type": "display_data",
          "data": {
            "image/png": "[encoded data removed]",
            "text/plain": [
              "<Figure size 432x288 with 1 Axes>"
            ]
          },
          "metadata": {
            "needs_background": "light"
          }
        }
      ]
    },
    {
      "cell_type": "markdown",
      "metadata": {
        "id": "whWrFxNXjOPT"
      },
      "source": [
        "##SVM with RBF kernel"
      ]
    },
    {
      "cell_type": "code",
      "metadata": {
        "colab": {
          "base_uri": "https://localhost:8080/",
          "height": 299
        },
        "id": "cu9jbftsjLRI",
        "outputId": "9bb65207-7fe5-4f3e-c706-399649dd98ae"
      },
      "source": [
        "from sklearn.svm import SVC\n",
        "model_SVC_RBF = SVC(kernel = 'rbf')\n",
        "model_SVC_RBF.fit(X_train,y_train)\n",
        "model_evaluation(model_SVC_RBF)"
      ],
      "execution_count": null,
      "outputs": [
        {
          "output_type": "stream",
          "name": "stdout",
          "text": [
            "Train accuracy: 0.925\n",
            "Val accuracy: 0.8625\n"
          ]
        },
        {
          "output_type": "display_data",
          "data": {
            "image/png": "[encoded data removed]",
            "text/plain": [
              "<Figure size 432x288 with 1 Axes>"
            ]
          },
          "metadata": {
            "needs_background": "light"
          }
        }
      ]
    },
    {
      "cell_type": "markdown",
      "metadata": {
        "id": "9WAg0HRfjcuU"
      },
      "source": [
        "##Naive Bayes"
      ]
    },
    {
      "cell_type": "code",
      "metadata": {
        "colab": {
          "base_uri": "https://localhost:8080/",
          "height": 299
        },
        "id": "SXwsJSZLjg_7",
        "outputId": "5f7920fe-f18f-4dce-94fa-48202085667a"
      },
      "source": [
        "from sklearn.naive_bayes import GaussianNB\n",
        "model_NB = GaussianNB().fit(X_train,y_train)\n",
        "model_evaluation(model_NB)"
      ],
      "execution_count": null,
      "outputs": [
        {
          "output_type": "stream",
          "name": "stdout",
          "text": [
            "Train accuracy: 0.90625\n",
            "Val accuracy: 0.85\n"
          ]
        },
        {
          "output_type": "display_data",
          "data": {
            "image/png": "[encoded data removed]",
            "text/plain": [
              "<Figure size 432x288 with 1 Axes>"
            ]
          },
          "metadata": {
            "needs_background": "light"
          }
        }
      ]
    },
    {
      "cell_type": "markdown",
      "metadata": {
        "id": "xhdlRacqkVCk"
      },
      "source": [
        "##Decision tree"
      ]
    },
    {
      "cell_type": "code",
      "metadata": {
        "colab": {
          "base_uri": "https://localhost:8080/",
          "height": 299
        },
        "id": "qDpQzYMZj889",
        "outputId": "07d7ca16-74ec-486f-fc2d-bb46a82d192f"
      },
      "source": [
        "from sklearn.tree import DecisionTreeClassifier\n",
        "model_DT = DecisionTreeClassifier().fit(X_train,y_train)\n",
        "model_evaluation(model_DT)"
      ],
      "execution_count": null,
      "outputs": [
        {
          "output_type": "stream",
          "name": "stdout",
          "text": [
            "Train accuracy: 0.996875\n",
            "Val accuracy: 0.8\n"
          ]
        },
        {
          "output_type": "display_data",
          "data": {
            "image/png": "[encoded data removed]",
            "text/plain": [
              "<Figure size 432x288 with 1 Axes>"
            ]
          },
          "metadata": {
            "needs_background": "light"
          }
        }
      ]
    },
    {
      "cell_type": "markdown",
      "metadata": {
        "id": "AI6x9mdMlibi"
      },
      "source": [
        "##Random Forest"
      ]
    },
    {
      "cell_type": "code",
      "metadata": {
        "colab": {
          "base_uri": "https://localhost:8080/",
          "height": 299
        },
        "id": "XmnLvNpxkzaz",
        "outputId": "3b6a6b65-0677-4099-9423-51fa0de42be8"
      },
      "source": [
        "from sklearn.ensemble import  RandomForestClassifier\n",
        "model_RF = RandomForestClassifier(n_estimators = 10).fit(X_train,y_train)\n",
        "model_evaluation(model_RF)"
      ],
      "execution_count": null,
      "outputs": [
        {
          "output_type": "stream",
          "name": "stdout",
          "text": [
            "Train accuracy: 0.990625\n",
            "Val accuracy: 0.8375\n"
          ]
        },
        {
          "output_type": "display_data",
          "data": {
            "image/png": "[encoded data removed]",
            "text/plain": [
              "<Figure size 432x288 with 1 Axes>"
            ]
          },
          "metadata": {
            "needs_background": "light"
          }
        }
      ]
    },
    {
      "cell_type": "markdown",
      "metadata": {
        "id": "vzSzNcY6nRb0"
      },
      "source": [
        "#Bài tập: sử dụng K-fold cross-validation để đánh giá các mô hình nói trên"
      ]
    },
    {
      "cell_type": "code",
      "metadata": {
        "id": "c-ZFWOi5nXLN"
      },
      "source": [
        "from sklearn.model_selection import KFold\n",
        "def evaluation_kfold(model):\n",
        "  X, y = ds.iloc[:,:-1].to_numpy(),ds.iloc[:,-1].to_numpy()\n",
        "  kf = KFold(n_splits=5)\n",
        "  train_accuracies = []\n",
        "  val_accuracies = []\n",
        "  for train_index, val_index in kf.split(X):\n",
        "    X_train, X_val = X[train_index], X[val_index]\n",
        "    y_train, y_val = y[train_index], y[val_index]\n",
        "\n",
        "    scaler = StandardScaler()\n",
        "    scaler = scaler.fit(X_train)\n",
        "    X_train = scaler.transform(X_train)\n",
        "    X_val = scaler.transform(X_val)\n",
        "    \n",
        "    model.fit(X_train,y_train)\n",
        "\n",
        "    train_accuracies.append(model.score(X_train,y_train))\n",
        "    val_accuracies.append(model.score(X_val,y_val))\n",
        "  \n",
        "  print('Train accuracy: ',np.mean(train_accuracies))\n",
        "  print('Validation accuracy: ',np.mean(val_accuracies))"
      ],
      "execution_count": null,
      "outputs": []
    },
    {
      "cell_type": "code",
      "metadata": {
        "colab": {
          "base_uri": "https://localhost:8080/"
        },
        "id": "oy17XKCwuMz-",
        "outputId": "da61a24f-4731-4866-cbc7-e2593d95463e"
      },
      "source": [
        "models = [LogisticRegression(),KNeighborsClassifier(n_neighbors = 3),SVC(kernel = 'linear'),SVC(kernel = 'rbf'),GaussianNB(),DecisionTreeClassifier(),RandomForestClassifier(n_estimators = 10)]\n",
        "model_names = ['Logistic Repression','K-Nearest Neighbor','SVM','SVM with RBF kernel','Naive Bayes','Decision tree','Random Forest']\n",
        "for name,model in zip(model_names,models):\n",
        "  print(name,':')\n",
        "  evaluation_kfold(model)\n",
        "  print('-'*10)"
      ],
      "execution_count": null,
      "outputs": [
        {
          "output_type": "stream",
          "name": "stdout",
          "text": [
            "Logistic Repression :\n",
            "Train accuracy:  0.853125\n",
            "Validation accuracy:  0.8225\n",
            "----------\n",
            "K-Nearest Neighbor :\n",
            "Train accuracy:  0.930625\n",
            "Validation accuracy:  0.8924999999999998\n",
            "----------\n",
            "SVM :\n",
            "Train accuracy:  0.8556250000000001\n",
            "Validation accuracy:  0.82\n",
            "----------\n",
            "SVM with RBF kernel :\n",
            "Train accuracy:  0.91375\n",
            "Validation accuracy:  0.9099999999999999\n",
            "----------\n",
            "Naive Bayes :\n",
            "Train accuracy:  0.8943749999999999\n",
            "Validation accuracy:  0.8574999999999999\n",
            "----------\n",
            "Decision tree :\n",
            "Train accuracy:  0.9962500000000001\n",
            "Validation accuracy:  0.8549999999999999\n",
            "----------\n",
            "Random Forest :\n",
            "Train accuracy:  0.985\n",
            "Validation accuracy:  0.875\n",
            "----------\n"
          ]
        }
      ]
    }
  ]
}