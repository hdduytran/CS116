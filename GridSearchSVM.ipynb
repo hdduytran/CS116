{
  "nbformat": 4,
  "nbformat_minor": 0,
  "metadata": {
    "colab": {
      "name": "GridSearchSVM.ipynb",
      "provenance": [],
      "toc_visible": true
    },
    "kernelspec": {
      "name": "python3",
      "display_name": "Python 3"
    },
    "language_info": {
      "name": "python"
    }
  },
  "cells": [
    {
      "cell_type": "markdown",
      "metadata": {
        "id": "YbwYgttRHPMI"
      },
      "source": [
        "#Trần Hoàn Đức Duy - 19521434"
      ]
    },
    {
      "cell_type": "markdown",
      "metadata": {
        "id": "hV_SKpC9Gqob"
      },
      "source": [
        "#Bước 0: Liệt kê các parameters của SVM\n",
        "\n",
        "* kernel\n",
        "* degree\n",
        "* gamma\n",
        "* coef0\n",
        "* shrinking\n",
        "* probability\n",
        "* tol \n",
        "* cache_size\n",
        "* class_weight\n",
        "* max_iter"
      ]
    },
    {
      "cell_type": "markdown",
      "metadata": {
        "id": "gI7Oyso13pOX"
      },
      "source": [
        "#Bước 1: Chia dataset thành train:test \n",
        "Không chia tập val vì hàm gridsearch tự động sử dụng kfold với tập train"
      ]
    },
    {
      "cell_type": "code",
      "metadata": {
        "id": "E_-1uVHC33-O"
      },
      "source": [
        "import pandas as pd\n",
        "from sklearn.model_selection import train_test_split"
      ],
      "execution_count": null,
      "outputs": []
    },
    {
      "cell_type": "code",
      "metadata": {
        "colab": {
          "base_uri": "https://localhost:8080/",
          "height": 206
        },
        "id": "7Bj4AInM4PEi",
        "outputId": "cb88b4fb-01ef-4249-bc9e-bd71781d7ff9"
      },
      "source": [
        "ds = pd.read_csv('/content/drive/MyDrive/Programming/Python for machine learning/data/Social_Network_Ads.csv')\n",
        "ds.tail()"
      ],
      "execution_count": null,
      "outputs": [
        {
          "output_type": "execute_result",
          "data": {
            "text/html": [
              "<div>\n",
              "<style scoped>\n",
              "    .dataframe tbody tr th:only-of-type {\n",
              "        vertical-align: middle;\n",
              "    }\n",
              "\n",
              "    .dataframe tbody tr th {\n",
              "        vertical-align: top;\n",
              "    }\n",
              "\n",
              "    .dataframe thead th {\n",
              "        text-align: right;\n",
              "    }\n",
              "</style>\n",
              "<table border=\"1\" class=\"dataframe\">\n",
              "  <thead>\n",
              "    <tr style=\"text-align: right;\">\n",
              "      <th></th>\n",
              "      <th>Age</th>\n",
              "      <th>EstimatedSalary</th>\n",
              "      <th>Purchased</th>\n",
              "    </tr>\n",
              "  </thead>\n",
              "  <tbody>\n",
              "    <tr>\n",
              "      <th>395</th>\n",
              "      <td>46</td>\n",
              "      <td>41000</td>\n",
              "      <td>1</td>\n",
              "    </tr>\n",
              "    <tr>\n",
              "      <th>396</th>\n",
              "      <td>51</td>\n",
              "      <td>23000</td>\n",
              "      <td>1</td>\n",
              "    </tr>\n",
              "    <tr>\n",
              "      <th>397</th>\n",
              "      <td>50</td>\n",
              "      <td>20000</td>\n",
              "      <td>1</td>\n",
              "    </tr>\n",
              "    <tr>\n",
              "      <th>398</th>\n",
              "      <td>36</td>\n",
              "      <td>33000</td>\n",
              "      <td>0</td>\n",
              "    </tr>\n",
              "    <tr>\n",
              "      <th>399</th>\n",
              "      <td>49</td>\n",
              "      <td>36000</td>\n",
              "      <td>1</td>\n",
              "    </tr>\n",
              "  </tbody>\n",
              "</table>\n",
              "</div>"
            ],
            "text/plain": [
              "     Age  EstimatedSalary  Purchased\n",
              "395   46            41000          1\n",
              "396   51            23000          1\n",
              "397   50            20000          1\n",
              "398   36            33000          0\n",
              "399   49            36000          1"
            ]
          },
          "metadata": {},
          "execution_count": 5
        }
      ]
    },
    {
      "cell_type": "code",
      "metadata": {
        "id": "mu7V2bGq4Xnb"
      },
      "source": [
        "X, y = ds.iloc[:,:-1],ds.iloc[:,-1]\n",
        "X_train, X_test, y_train, y_test = train_test_split(X,y,test_size = 0.15,random_state = 1)"
      ],
      "execution_count": null,
      "outputs": []
    },
    {
      "cell_type": "markdown",
      "metadata": {
        "id": "6s94OLxvaNa1"
      },
      "source": [
        "#Bước 2: Chuẩn hóa dữ liệu"
      ]
    },
    {
      "cell_type": "code",
      "metadata": {
        "id": "5M6RvabT8ioF"
      },
      "source": [
        "from sklearn.preprocessing import StandardScaler"
      ],
      "execution_count": null,
      "outputs": []
    },
    {
      "cell_type": "code",
      "metadata": {
        "id": "M_hW2TggUPxj"
      },
      "source": [
        "scaler = StandardScaler()\n",
        "scaler = scaler.fit(X_train)\n",
        "X_train = scaler.transform(X_train)\n",
        "X_test = scaler.transform(X_test)"
      ],
      "execution_count": null,
      "outputs": []
    },
    {
      "cell_type": "markdown",
      "metadata": {
        "id": "P5E1mP5y8wv1"
      },
      "source": [
        "#Bước 3: GridSearch"
      ]
    },
    {
      "cell_type": "code",
      "metadata": {
        "id": "oF8_xRX78VxY"
      },
      "source": [
        "from sklearn.model_selection import GridSearchCV  \n",
        "from sklearn.svm import SVC"
      ],
      "execution_count": null,
      "outputs": []
    },
    {
      "cell_type": "code",
      "metadata": {
        "id": "_5zH6qr39SJc"
      },
      "source": [
        "parameters = {'kernel':('linear', 'rbf', 'poly','sigmoid'), 'C':[1, 10],'degree': [1,2,3,4],'gamma':('scale','auto')}\n",
        "Gs = GridSearchCV(estimator=SVC(), param_grid=parameters)"
      ],
      "execution_count": null,
      "outputs": []
    },
    {
      "cell_type": "code",
      "metadata": {
        "colab": {
          "base_uri": "https://localhost:8080/"
        },
        "id": "K6QmaXEFC9yo",
        "outputId": "9d2d800d-bcb0-4b3c-a9d3-64e9682512aa"
      },
      "source": [
        "Gs.fit(X_train,y_train)"
      ],
      "execution_count": null,
      "outputs": [
        {
          "output_type": "execute_result",
          "data": {
            "text/plain": [
              "GridSearchCV(estimator=SVC(),\n",
              "             param_grid={'C': [1, 10], 'degree': [1, 2, 3, 4],\n",
              "                         'gamma': ('scale', 'auto'),\n",
              "                         'kernel': ('linear', 'rbf', 'poly', 'sigmoid')})"
            ]
          },
          "metadata": {},
          "execution_count": 20
        }
      ]
    },
    {
      "cell_type": "code",
      "metadata": {
        "colab": {
          "base_uri": "https://localhost:8080/",
          "height": 660
        },
        "id": "fVWXyHnkDGkn",
        "outputId": "1641e3e6-bccb-4e9b-dcb4-21c7f8284cdc"
      },
      "source": [
        "result = pd.DataFrame(Gs.cv_results_)\n",
        "result.tail()"
      ],
      "execution_count": null,
      "outputs": [
        {
          "output_type": "execute_result",
          "data": {
            "text/html": [
              "<div>\n",
              "<style scoped>\n",
              "    .dataframe tbody tr th:only-of-type {\n",
              "        vertical-align: middle;\n",
              "    }\n",
              "\n",
              "    .dataframe tbody tr th {\n",
              "        vertical-align: top;\n",
              "    }\n",
              "\n",
              "    .dataframe thead th {\n",
              "        text-align: right;\n",
              "    }\n",
              "</style>\n",
              "<table border=\"1\" class=\"dataframe\">\n",
              "  <thead>\n",
              "    <tr style=\"text-align: right;\">\n",
              "      <th></th>\n",
              "      <th>mean_fit_time</th>\n",
              "      <th>std_fit_time</th>\n",
              "      <th>mean_score_time</th>\n",
              "      <th>std_score_time</th>\n",
              "      <th>param_C</th>\n",
              "      <th>param_degree</th>\n",
              "      <th>param_gamma</th>\n",
              "      <th>param_kernel</th>\n",
              "      <th>params</th>\n",
              "      <th>split0_test_score</th>\n",
              "      <th>split1_test_score</th>\n",
              "      <th>split2_test_score</th>\n",
              "      <th>split3_test_score</th>\n",
              "      <th>split4_test_score</th>\n",
              "      <th>mean_test_score</th>\n",
              "      <th>std_test_score</th>\n",
              "      <th>rank_test_score</th>\n",
              "    </tr>\n",
              "  </thead>\n",
              "  <tbody>\n",
              "    <tr>\n",
              "      <th>59</th>\n",
              "      <td>0.003003</td>\n",
              "      <td>0.000292</td>\n",
              "      <td>0.000974</td>\n",
              "      <td>0.000069</td>\n",
              "      <td>10</td>\n",
              "      <td>4</td>\n",
              "      <td>scale</td>\n",
              "      <td>sigmoid</td>\n",
              "      <td>{'C': 10, 'degree': 4, 'gamma': 'scale', 'kern...</td>\n",
              "      <td>0.632353</td>\n",
              "      <td>0.676471</td>\n",
              "      <td>0.676471</td>\n",
              "      <td>0.705882</td>\n",
              "      <td>0.676471</td>\n",
              "      <td>0.673529</td>\n",
              "      <td>0.023529</td>\n",
              "      <td>49</td>\n",
              "    </tr>\n",
              "    <tr>\n",
              "      <th>60</th>\n",
              "      <td>0.003031</td>\n",
              "      <td>0.000236</td>\n",
              "      <td>0.000726</td>\n",
              "      <td>0.000043</td>\n",
              "      <td>10</td>\n",
              "      <td>4</td>\n",
              "      <td>auto</td>\n",
              "      <td>linear</td>\n",
              "      <td>{'C': 10, 'degree': 4, 'gamma': 'auto', 'kerne...</td>\n",
              "      <td>0.764706</td>\n",
              "      <td>0.867647</td>\n",
              "      <td>0.823529</td>\n",
              "      <td>0.838235</td>\n",
              "      <td>0.852941</td>\n",
              "      <td>0.829412</td>\n",
              "      <td>0.035538</td>\n",
              "      <td>33</td>\n",
              "    </tr>\n",
              "    <tr>\n",
              "      <th>61</th>\n",
              "      <td>0.002552</td>\n",
              "      <td>0.000129</td>\n",
              "      <td>0.000868</td>\n",
              "      <td>0.000081</td>\n",
              "      <td>10</td>\n",
              "      <td>4</td>\n",
              "      <td>auto</td>\n",
              "      <td>rbf</td>\n",
              "      <td>{'C': 10, 'degree': 4, 'gamma': 'auto', 'kerne...</td>\n",
              "      <td>0.867647</td>\n",
              "      <td>0.941176</td>\n",
              "      <td>0.897059</td>\n",
              "      <td>0.985294</td>\n",
              "      <td>0.882353</td>\n",
              "      <td>0.914706</td>\n",
              "      <td>0.043026</td>\n",
              "      <td>9</td>\n",
              "    </tr>\n",
              "    <tr>\n",
              "      <th>62</th>\n",
              "      <td>0.009666</td>\n",
              "      <td>0.001169</td>\n",
              "      <td>0.000876</td>\n",
              "      <td>0.000021</td>\n",
              "      <td>10</td>\n",
              "      <td>4</td>\n",
              "      <td>auto</td>\n",
              "      <td>poly</td>\n",
              "      <td>{'C': 10, 'degree': 4, 'gamma': 'auto', 'kerne...</td>\n",
              "      <td>0.764706</td>\n",
              "      <td>0.750000</td>\n",
              "      <td>0.867647</td>\n",
              "      <td>0.838235</td>\n",
              "      <td>0.808824</td>\n",
              "      <td>0.805882</td>\n",
              "      <td>0.044019</td>\n",
              "      <td>47</td>\n",
              "    </tr>\n",
              "    <tr>\n",
              "      <th>63</th>\n",
              "      <td>0.002982</td>\n",
              "      <td>0.000264</td>\n",
              "      <td>0.000957</td>\n",
              "      <td>0.000062</td>\n",
              "      <td>10</td>\n",
              "      <td>4</td>\n",
              "      <td>auto</td>\n",
              "      <td>sigmoid</td>\n",
              "      <td>{'C': 10, 'degree': 4, 'gamma': 'auto', 'kerne...</td>\n",
              "      <td>0.632353</td>\n",
              "      <td>0.676471</td>\n",
              "      <td>0.676471</td>\n",
              "      <td>0.705882</td>\n",
              "      <td>0.676471</td>\n",
              "      <td>0.673529</td>\n",
              "      <td>0.023529</td>\n",
              "      <td>49</td>\n",
              "    </tr>\n",
              "  </tbody>\n",
              "</table>\n",
              "</div>"
            ],
            "text/plain": [
              "    mean_fit_time  std_fit_time  ...  std_test_score  rank_test_score\n",
              "59       0.003003      0.000292  ...        0.023529               49\n",
              "60       0.003031      0.000236  ...        0.035538               33\n",
              "61       0.002552      0.000129  ...        0.043026                9\n",
              "62       0.009666      0.001169  ...        0.044019               47\n",
              "63       0.002982      0.000264  ...        0.023529               49\n",
              "\n",
              "[5 rows x 17 columns]"
            ]
          },
          "metadata": {},
          "execution_count": 22
        }
      ]
    },
    {
      "cell_type": "code",
      "metadata": {
        "colab": {
          "base_uri": "https://localhost:8080/"
        },
        "id": "z_me_KFlDyfk",
        "outputId": "007e4e02-fc0f-40ab-a48c-822e3a81fed9"
      },
      "source": [
        "result.loc[result['rank_test_score'].idxmin()]"
      ],
      "execution_count": null,
      "outputs": [
        {
          "output_type": "execute_result",
          "data": {
            "text/plain": [
              "mean_fit_time                                               0.00303831\n",
              "std_fit_time                                               0.000856156\n",
              "mean_score_time                                             0.00110497\n",
              "std_score_time                                             0.000137568\n",
              "param_C                                                              1\n",
              "param_degree                                                         1\n",
              "param_gamma                                                      scale\n",
              "param_kernel                                                       rbf\n",
              "params               {'C': 1, 'degree': 1, 'gamma': 'scale', 'kerne...\n",
              "split0_test_score                                             0.852941\n",
              "split1_test_score                                             0.882353\n",
              "split2_test_score                                             0.941176\n",
              "split3_test_score                                             0.985294\n",
              "split4_test_score                                             0.926471\n",
              "mean_test_score                                               0.917647\n",
              "std_test_score                                               0.0461306\n",
              "rank_test_score                                                      1\n",
              "Name: 1, dtype: object"
            ]
          },
          "metadata": {},
          "execution_count": 28
        }
      ]
    },
    {
      "cell_type": "code",
      "metadata": {
        "colab": {
          "base_uri": "https://localhost:8080/"
        },
        "id": "q_bhQmpkERP3",
        "outputId": "83601496-55f7-44df-c930-f181732895e2"
      },
      "source": [
        "print('Best parameters: ',result.loc[result['rank_test_score'].idxmin()]['params'])"
      ],
      "execution_count": null,
      "outputs": [
        {
          "output_type": "stream",
          "name": "stdout",
          "text": [
            "Best parameters:  {'C': 1, 'degree': 1, 'gamma': 'scale', 'kernel': 'rbf'}\n"
          ]
        }
      ]
    },
    {
      "cell_type": "markdown",
      "metadata": {
        "id": "vJ10z2vUFbP_"
      },
      "source": [
        "#Bước 4: Build and evaluation"
      ]
    },
    {
      "cell_type": "code",
      "metadata": {
        "colab": {
          "base_uri": "https://localhost:8080/"
        },
        "id": "ubiaHQU2FHpi",
        "outputId": "3c77ca2a-8b2d-467e-9abb-cff9c31b03d7"
      },
      "source": [
        "print('Score on test set: ',Gs.score(X_test,y_test))"
      ],
      "execution_count": null,
      "outputs": [
        {
          "output_type": "stream",
          "name": "stdout",
          "text": [
            "Score on test set:  0.8666666666666667\n"
          ]
        }
      ]
    }
  ]
}