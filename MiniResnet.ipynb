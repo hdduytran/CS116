{
  "nbformat": 4,
  "nbformat_minor": 0,
  "metadata": {
    "colab": {
      "name": "CNN.ipynb",
      "provenance": [],
      "collapsed_sections": []
    },
    "kernelspec": {
      "name": "python3",
      "display_name": "Python 3"
    },
    "language_info": {
      "name": "python"
    },
    "accelerator": "GPU"
  },
  "cells": [
    {
      "cell_type": "markdown",
      "metadata": {
        "id": "q_kSpp_RINIY"
      },
      "source": [
        "#Trần hoàn Đức Duy - 19521434"
      ]
    },
    {
      "cell_type": "markdown",
      "metadata": {
        "id": "NLg3PR34JFuP"
      },
      "source": [
        "#Import packages"
      ]
    },
    {
      "cell_type": "code",
      "metadata": {
        "id": "FqBXykc0U7MT"
      },
      "source": [
        "import tensorflow as tf\n",
        "import keras\n",
        "from keras.layers import Input, Dense, Conv2D, MaxPooling2D, AveragePooling2D, Flatten, Add\n",
        "from keras.models import load_model, Model\n",
        "import numpy as np"
      ],
      "execution_count": 3,
      "outputs": []
    },
    {
      "cell_type": "markdown",
      "metadata": {
        "id": "WFO_gB0IJIm4"
      },
      "source": [
        "#Data preprocessing"
      ]
    },
    {
      "cell_type": "code",
      "metadata": {
        "colab": {
          "base_uri": "https://localhost:8080/"
        },
        "id": "WC6-Idaa97wz",
        "outputId": "388138cc-c0e4-44af-efb5-12c2f8016e3f"
      },
      "source": [
        "(x_train, y_train), (x_test, y_test) = keras.datasets.mnist.load_data()\n",
        "\n",
        "print(x_train.shape)\n",
        "print(y_train.shape)"
      ],
      "execution_count": 4,
      "outputs": [
        {
          "output_type": "stream",
          "name": "stdout",
          "text": [
            "Downloading data from https://storage.googleapis.com/tensorflow/tf-keras-datasets/mnist.npz\n",
            "11493376/11490434 [==============================] - 0s 0us/step\n",
            "11501568/11490434 [==============================] - 0s 0us/step\n",
            "(60000, 28, 28)\n",
            "(60000,)\n"
          ]
        }
      ]
    },
    {
      "cell_type": "code",
      "metadata": {
        "id": "JvILgIFs-TQw"
      },
      "source": [
        "def onehot(y):\n",
        "    oh = np.zeros((y.shape[0], 10))\n",
        "    for i in range(y.shape[0]):\n",
        "        oh[i, int(y[i])] = 1\n",
        "    return oh"
      ],
      "execution_count": 5,
      "outputs": []
    },
    {
      "cell_type": "code",
      "metadata": {
        "id": "DoG5fz4HASuW"
      },
      "source": [
        "y_train_oh = onehot(y_train)\n",
        "y_test_oh = onehot(y_test)\n",
        "\n",
        "x_train_norm = x_train/255.0\n",
        "x_test_norm = x_test/255.0\n",
        "\n",
        "x_train_norm = x_train_norm[:,:,:, np.newaxis]\n",
        "x_test_norm = x_test_norm[:,:,:, np.newaxis]"
      ],
      "execution_count": 6,
      "outputs": []
    },
    {
      "cell_type": "markdown",
      "metadata": {
        "id": "pg9loBiLKT3m"
      },
      "source": [
        "#Define model"
      ]
    },
    {
      "cell_type": "code",
      "metadata": {
        "id": "Wjx0q_n62fLK"
      },
      "source": [
        "class MiniResNet:\n",
        "    def __init__(self):\n",
        "        self.model = None\n",
        "\n",
        "    def build(self, input_dim):\n",
        "        input = Input(shape=input_dim)\n",
        "        conv1 = Conv2D(8, (3, 3), padding='same', activation=None)(input)\n",
        "        p1 = MaxPooling2D((2, 2), strides=(2, 2))(conv1)\n",
        "    \n",
        "        conv2 = Conv2D(8, (3, 3), padding='same', activation='relu')(p1)\n",
        "        conv3 = Conv2D(8, (3, 3), padding='same', activation='relu')(conv2)\n",
        "        skip1 = p1 + conv3\n",
        "\n",
        "        conv4 = Conv2D(16, (3, 3), padding='same', strides=(2, 2), activation='relu')(skip1)\n",
        "        conv5 = Conv2D(16, (3, 3), padding='same', activation='relu')(conv4)\n",
        "        conv6 = Conv2D(16, (3, 3), padding='same', activation='relu')(conv5)\n",
        "        skip2 = conv4 + conv6\n",
        "        \n",
        "        p2 = AveragePooling2D((2, 2), padding='same', strides=(1, 1))(skip2)\n",
        "        flatten = Flatten()(p2)\n",
        "        fc1 = Dense(400, activation='sigmoid')(flatten)\n",
        "        output = Dense(10, activation='softmax')(fc1)\n",
        "\n",
        "        self.model = Model(input, output)\n",
        "        self.model.compile(optimizer='adam', loss='categorical_crossentropy', metrics=['accuracy'])\n",
        "\n",
        "    def train(self, x_train, y_train,validation_split=0.2, verbose=1, epochs=10, batch_size=128):\n",
        "        self.model.fit(x_train, y_train, validation_split=validation_split, verbose=verbose, epochs=epochs, batch_size=batch_size)\n",
        "\n",
        "    def load(self, model_file):\n",
        "        self.model = load_file(model_file)\n",
        "\n",
        "    def save(self, model_file):\n",
        "        self.model.save(model_file)\n",
        "\n",
        "    def summary(self):\n",
        "        self.model.summary()\n",
        "\n",
        "    def predict(self, x_test):\n",
        "      return self.model.predict(x_test)"
      ],
      "execution_count": 9,
      "outputs": []
    },
    {
      "cell_type": "code",
      "metadata": {
        "colab": {
          "base_uri": "https://localhost:8080/"
        },
        "id": "8bTxsfffJSiB",
        "outputId": "b40215b5-6b09-41bc-da26-bd3381ca5f97"
      },
      "source": [
        "model = MiniResNet()\n",
        "model.build((28, 28, 1))\n",
        "model.summary()"
      ],
      "execution_count": 10,
      "outputs": [
        {
          "output_type": "stream",
          "name": "stdout",
          "text": [
            "Model: \"model_1\"\n",
            "__________________________________________________________________________________________________\n",
            " Layer (type)                   Output Shape         Param #     Connected to                     \n",
            "==================================================================================================\n",
            " input_2 (InputLayer)           [(None, 28, 28, 1)]  0           []                               \n",
            "                                                                                                  \n",
            " conv2d_6 (Conv2D)              (None, 28, 28, 8)    80          ['input_2[0][0]']                \n",
            "                                                                                                  \n",
            " max_pooling2d_1 (MaxPooling2D)  (None, 14, 14, 8)   0           ['conv2d_6[0][0]']               \n",
            "                                                                                                  \n",
            " conv2d_7 (Conv2D)              (None, 14, 14, 8)    584         ['max_pooling2d_1[0][0]']        \n",
            "                                                                                                  \n",
            " conv2d_8 (Conv2D)              (None, 14, 14, 8)    584         ['conv2d_7[0][0]']               \n",
            "                                                                                                  \n",
            " tf.__operators__.add_2 (TFOpLa  (None, 14, 14, 8)   0           ['max_pooling2d_1[0][0]',        \n",
            " mbda)                                                            'conv2d_8[0][0]']               \n",
            "                                                                                                  \n",
            " conv2d_9 (Conv2D)              (None, 7, 7, 16)     1168        ['tf.__operators__.add_2[0][0]'] \n",
            "                                                                                                  \n",
            " conv2d_10 (Conv2D)             (None, 7, 7, 16)     2320        ['conv2d_9[0][0]']               \n",
            "                                                                                                  \n",
            " conv2d_11 (Conv2D)             (None, 7, 7, 16)     2320        ['conv2d_10[0][0]']              \n",
            "                                                                                                  \n",
            " tf.__operators__.add_3 (TFOpLa  (None, 7, 7, 16)    0           ['conv2d_9[0][0]',               \n",
            " mbda)                                                            'conv2d_11[0][0]']              \n",
            "                                                                                                  \n",
            " average_pooling2d_1 (AveragePo  (None, 7, 7, 16)    0           ['tf.__operators__.add_3[0][0]'] \n",
            " oling2D)                                                                                         \n",
            "                                                                                                  \n",
            " flatten_1 (Flatten)            (None, 784)          0           ['average_pooling2d_1[0][0]']    \n",
            "                                                                                                  \n",
            " dense_2 (Dense)                (None, 400)          314000      ['flatten_1[0][0]']              \n",
            "                                                                                                  \n",
            " dense_3 (Dense)                (None, 10)           4010        ['dense_2[0][0]']                \n",
            "                                                                                                  \n",
            "==================================================================================================\n",
            "Total params: 325,066\n",
            "Trainable params: 325,066\n",
            "Non-trainable params: 0\n",
            "__________________________________________________________________________________________________\n"
          ]
        }
      ]
    },
    {
      "cell_type": "markdown",
      "metadata": {
        "id": "gQu-wGrWKY2d"
      },
      "source": [
        "#Train and predict"
      ]
    },
    {
      "cell_type": "code",
      "metadata": {
        "colab": {
          "base_uri": "https://localhost:8080/"
        },
        "id": "lFKG4gvlJkIk",
        "outputId": "dce0f189-fe1b-44fb-c8aa-7e98377d041a"
      },
      "source": [
        "model.train(x_train_norm, y_train_oh)"
      ],
      "execution_count": 11,
      "outputs": [
        {
          "output_type": "stream",
          "name": "stdout",
          "text": [
            "Epoch 1/10\n",
            "375/375 [==============================] - 18s 6ms/step - loss: 0.4023 - accuracy: 0.8739 - val_loss: 0.1392 - val_accuracy: 0.9551\n",
            "Epoch 2/10\n",
            "375/375 [==============================] - 2s 6ms/step - loss: 0.1056 - accuracy: 0.9680 - val_loss: 0.0811 - val_accuracy: 0.9768\n",
            "Epoch 3/10\n",
            "375/375 [==============================] - 2s 6ms/step - loss: 0.0730 - accuracy: 0.9777 - val_loss: 0.0728 - val_accuracy: 0.9781\n",
            "Epoch 4/10\n",
            "375/375 [==============================] - 2s 6ms/step - loss: 0.0578 - accuracy: 0.9822 - val_loss: 0.0594 - val_accuracy: 0.9826\n",
            "Epoch 5/10\n",
            "375/375 [==============================] - 2s 6ms/step - loss: 0.0487 - accuracy: 0.9847 - val_loss: 0.0566 - val_accuracy: 0.9829\n",
            "Epoch 6/10\n",
            "375/375 [==============================] - 2s 5ms/step - loss: 0.0417 - accuracy: 0.9870 - val_loss: 0.0557 - val_accuracy: 0.9829\n",
            "Epoch 7/10\n",
            "375/375 [==============================] - 2s 6ms/step - loss: 0.0354 - accuracy: 0.9887 - val_loss: 0.0486 - val_accuracy: 0.9855\n",
            "Epoch 8/10\n",
            "375/375 [==============================] - 2s 6ms/step - loss: 0.0316 - accuracy: 0.9905 - val_loss: 0.0490 - val_accuracy: 0.9848\n",
            "Epoch 9/10\n",
            "375/375 [==============================] - 2s 6ms/step - loss: 0.0267 - accuracy: 0.9919 - val_loss: 0.0443 - val_accuracy: 0.9868\n",
            "Epoch 10/10\n",
            "375/375 [==============================] - 2s 6ms/step - loss: 0.0230 - accuracy: 0.9929 - val_loss: 0.0456 - val_accuracy: 0.9864\n"
          ]
        }
      ]
    },
    {
      "cell_type": "code",
      "metadata": {
        "colab": {
          "base_uri": "https://localhost:8080/"
        },
        "id": "k4GQ0BKKRJj6",
        "outputId": "e1835e33-ff10-4eee-feb5-c516376707a0"
      },
      "source": [
        "y_pred = model.predict(x_test_norm)\n",
        "print('predictions: ',np.argmax(y_pred[:10],axis = 1))"
      ],
      "execution_count": 15,
      "outputs": [
        {
          "output_type": "stream",
          "name": "stdout",
          "text": [
            "predictions:  [7 2 1 0 4 1 4 9 5 9]\n"
          ]
        }
      ]
    },
    {
      "cell_type": "markdown",
      "metadata": {
        "id": "HWg8QmdQKfr9"
      },
      "source": [
        "#Visualization"
      ]
    },
    {
      "cell_type": "code",
      "metadata": {
        "colab": {
          "base_uri": "https://localhost:8080/",
          "height": 425
        },
        "id": "RNMpYemCRT0J",
        "outputId": "a0e0a534-ce30-4326-d1a4-2a00d84f118d"
      },
      "source": [
        "import matplotlib.pyplot as plt\n",
        "\n",
        "plt.figure(figsize=(7,7))\n",
        "for i in range(9):\n",
        "  plt.subplot(3,3,i+1)\n",
        "  plt.xticks([])\n",
        "  plt.yticks([])\n",
        "  plt.imshow(x_test[i],cmap='gray')\n",
        "  label = np.argmax(y_pred[i])\n",
        "  if label == y_test[i]:\n",
        "    color = 'blue'\n",
        "  else:\n",
        "    color = 'red'\n",
        "  plt.xlabel('predicted: ' +str(label),color = color)\n",
        "plt.show()"
      ],
      "execution_count": 21,
      "outputs": [
        {
          "output_type": "display_data",
          "data": {
            "image/png": "[encoded data removed]",
            "text/plain": [
              "<Figure size 504x504 with 9 Axes>"
            ]
          },
          "metadata": {}
        }
      ]
    }
  ]
}