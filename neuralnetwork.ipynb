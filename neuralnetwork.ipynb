{
  "nbformat": 4,
  "nbformat_minor": 0,
  "metadata": {
    "colab": {
      "name": "neuralnetwork.ipynb",
      "provenance": [],
      "toc_visible": true
    },
    "kernelspec": {
      "name": "python3",
      "display_name": "Python 3"
    },
    "language_info": {
      "name": "python"
    }
  },
  "cells": [
    {
      "cell_type": "markdown",
      "metadata": {
        "id": "poLXy7c26XVz"
      },
      "source": [
        "#Trần Hoàn Đức Duy - 19521434"
      ]
    },
    {
      "cell_type": "code",
      "metadata": {
        "id": "AMvwTqEKctAY"
      },
      "source": [
        "# %cd /content/drive/MyDrive/Programming/Python for machine learning"
      ],
      "execution_count": 375,
      "outputs": []
    },
    {
      "cell_type": "markdown",
      "metadata": {
        "id": "k83pywnMd9ud"
      },
      "source": [
        "#Bước 1: đọc dữ liệu từ file excel/*csv*"
      ]
    },
    {
      "cell_type": "code",
      "metadata": {
        "id": "WnYVnggHd7LA"
      },
      "source": [
        "import pandas as pd"
      ],
      "execution_count": 376,
      "outputs": []
    },
    {
      "cell_type": "code",
      "metadata": {
        "colab": {
          "base_uri": "https://localhost:8080/",
          "height": 224
        },
        "id": "pgcJPxeaeqV2",
        "outputId": "9facb8ef-d4f9-44e8-ed8e-5de08962e559"
      },
      "source": [
        "ds = pd.read_csv('data/Churn_Modelling.csv')\n",
        "ds.tail()"
      ],
      "execution_count": 377,
      "outputs": [
        {
          "output_type": "execute_result",
          "data": {
            "text/html": [
              "<div>\n",
              "<style scoped>\n",
              "    .dataframe tbody tr th:only-of-type {\n",
              "        vertical-align: middle;\n",
              "    }\n",
              "\n",
              "    .dataframe tbody tr th {\n",
              "        vertical-align: top;\n",
              "    }\n",
              "\n",
              "    .dataframe thead th {\n",
              "        text-align: right;\n",
              "    }\n",
              "</style>\n",
              "<table border=\"1\" class=\"dataframe\">\n",
              "  <thead>\n",
              "    <tr style=\"text-align: right;\">\n",
              "      <th></th>\n",
              "      <th>RowNumber</th>\n",
              "      <th>CustomerId</th>\n",
              "      <th>Surname</th>\n",
              "      <th>CreditScore</th>\n",
              "      <th>Geography</th>\n",
              "      <th>Gender</th>\n",
              "      <th>Age</th>\n",
              "      <th>Tenure</th>\n",
              "      <th>Balance</th>\n",
              "      <th>NumOfProducts</th>\n",
              "      <th>HasCrCard</th>\n",
              "      <th>IsActiveMember</th>\n",
              "      <th>EstimatedSalary</th>\n",
              "      <th>Exited</th>\n",
              "    </tr>\n",
              "  </thead>\n",
              "  <tbody>\n",
              "    <tr>\n",
              "      <th>9995</th>\n",
              "      <td>9996</td>\n",
              "      <td>15606229</td>\n",
              "      <td>Obijiaku</td>\n",
              "      <td>771</td>\n",
              "      <td>France</td>\n",
              "      <td>Male</td>\n",
              "      <td>39</td>\n",
              "      <td>5</td>\n",
              "      <td>0.00</td>\n",
              "      <td>2</td>\n",
              "      <td>1</td>\n",
              "      <td>0</td>\n",
              "      <td>96270.64</td>\n",
              "      <td>0</td>\n",
              "    </tr>\n",
              "    <tr>\n",
              "      <th>9996</th>\n",
              "      <td>9997</td>\n",
              "      <td>15569892</td>\n",
              "      <td>Johnstone</td>\n",
              "      <td>516</td>\n",
              "      <td>France</td>\n",
              "      <td>Male</td>\n",
              "      <td>35</td>\n",
              "      <td>10</td>\n",
              "      <td>57369.61</td>\n",
              "      <td>1</td>\n",
              "      <td>1</td>\n",
              "      <td>1</td>\n",
              "      <td>101699.77</td>\n",
              "      <td>0</td>\n",
              "    </tr>\n",
              "    <tr>\n",
              "      <th>9997</th>\n",
              "      <td>9998</td>\n",
              "      <td>15584532</td>\n",
              "      <td>Liu</td>\n",
              "      <td>709</td>\n",
              "      <td>France</td>\n",
              "      <td>Female</td>\n",
              "      <td>36</td>\n",
              "      <td>7</td>\n",
              "      <td>0.00</td>\n",
              "      <td>1</td>\n",
              "      <td>0</td>\n",
              "      <td>1</td>\n",
              "      <td>42085.58</td>\n",
              "      <td>1</td>\n",
              "    </tr>\n",
              "    <tr>\n",
              "      <th>9998</th>\n",
              "      <td>9999</td>\n",
              "      <td>15682355</td>\n",
              "      <td>Sabbatini</td>\n",
              "      <td>772</td>\n",
              "      <td>Germany</td>\n",
              "      <td>Male</td>\n",
              "      <td>42</td>\n",
              "      <td>3</td>\n",
              "      <td>75075.31</td>\n",
              "      <td>2</td>\n",
              "      <td>1</td>\n",
              "      <td>0</td>\n",
              "      <td>92888.52</td>\n",
              "      <td>1</td>\n",
              "    </tr>\n",
              "    <tr>\n",
              "      <th>9999</th>\n",
              "      <td>10000</td>\n",
              "      <td>15628319</td>\n",
              "      <td>Walker</td>\n",
              "      <td>792</td>\n",
              "      <td>France</td>\n",
              "      <td>Female</td>\n",
              "      <td>28</td>\n",
              "      <td>4</td>\n",
              "      <td>130142.79</td>\n",
              "      <td>1</td>\n",
              "      <td>1</td>\n",
              "      <td>0</td>\n",
              "      <td>38190.78</td>\n",
              "      <td>0</td>\n",
              "    </tr>\n",
              "  </tbody>\n",
              "</table>\n",
              "</div>"
            ],
            "text/plain": [
              "      RowNumber  CustomerId    Surname  ...  IsActiveMember EstimatedSalary Exited\n",
              "9995       9996    15606229   Obijiaku  ...               0        96270.64      0\n",
              "9996       9997    15569892  Johnstone  ...               1       101699.77      0\n",
              "9997       9998    15584532        Liu  ...               1        42085.58      1\n",
              "9998       9999    15682355  Sabbatini  ...               0        92888.52      1\n",
              "9999      10000    15628319     Walker  ...               0        38190.78      0\n",
              "\n",
              "[5 rows x 14 columns]"
            ]
          },
          "metadata": {},
          "execution_count": 377
        }
      ]
    },
    {
      "cell_type": "code",
      "metadata": {
        "id": "zIopharOeyzI"
      },
      "source": [
        "x,y = ds.iloc[:,3:-1], ds.iloc[:,-1]"
      ],
      "execution_count": 378,
      "outputs": []
    },
    {
      "cell_type": "code",
      "metadata": {
        "colab": {
          "base_uri": "https://localhost:8080/",
          "height": 204
        },
        "id": "VoE0JO7MiUKV",
        "outputId": "65bb47ba-cdfb-4234-ed49-15b119ca3e2a"
      },
      "source": [
        "x.tail()"
      ],
      "execution_count": 379,
      "outputs": [
        {
          "output_type": "execute_result",
          "data": {
            "text/html": [
              "<div>\n",
              "<style scoped>\n",
              "    .dataframe tbody tr th:only-of-type {\n",
              "        vertical-align: middle;\n",
              "    }\n",
              "\n",
              "    .dataframe tbody tr th {\n",
              "        vertical-align: top;\n",
              "    }\n",
              "\n",
              "    .dataframe thead th {\n",
              "        text-align: right;\n",
              "    }\n",
              "</style>\n",
              "<table border=\"1\" class=\"dataframe\">\n",
              "  <thead>\n",
              "    <tr style=\"text-align: right;\">\n",
              "      <th></th>\n",
              "      <th>CreditScore</th>\n",
              "      <th>Geography</th>\n",
              "      <th>Gender</th>\n",
              "      <th>Age</th>\n",
              "      <th>Tenure</th>\n",
              "      <th>Balance</th>\n",
              "      <th>NumOfProducts</th>\n",
              "      <th>HasCrCard</th>\n",
              "      <th>IsActiveMember</th>\n",
              "      <th>EstimatedSalary</th>\n",
              "    </tr>\n",
              "  </thead>\n",
              "  <tbody>\n",
              "    <tr>\n",
              "      <th>9995</th>\n",
              "      <td>771</td>\n",
              "      <td>France</td>\n",
              "      <td>Male</td>\n",
              "      <td>39</td>\n",
              "      <td>5</td>\n",
              "      <td>0.00</td>\n",
              "      <td>2</td>\n",
              "      <td>1</td>\n",
              "      <td>0</td>\n",
              "      <td>96270.64</td>\n",
              "    </tr>\n",
              "    <tr>\n",
              "      <th>9996</th>\n",
              "      <td>516</td>\n",
              "      <td>France</td>\n",
              "      <td>Male</td>\n",
              "      <td>35</td>\n",
              "      <td>10</td>\n",
              "      <td>57369.61</td>\n",
              "      <td>1</td>\n",
              "      <td>1</td>\n",
              "      <td>1</td>\n",
              "      <td>101699.77</td>\n",
              "    </tr>\n",
              "    <tr>\n",
              "      <th>9997</th>\n",
              "      <td>709</td>\n",
              "      <td>France</td>\n",
              "      <td>Female</td>\n",
              "      <td>36</td>\n",
              "      <td>7</td>\n",
              "      <td>0.00</td>\n",
              "      <td>1</td>\n",
              "      <td>0</td>\n",
              "      <td>1</td>\n",
              "      <td>42085.58</td>\n",
              "    </tr>\n",
              "    <tr>\n",
              "      <th>9998</th>\n",
              "      <td>772</td>\n",
              "      <td>Germany</td>\n",
              "      <td>Male</td>\n",
              "      <td>42</td>\n",
              "      <td>3</td>\n",
              "      <td>75075.31</td>\n",
              "      <td>2</td>\n",
              "      <td>1</td>\n",
              "      <td>0</td>\n",
              "      <td>92888.52</td>\n",
              "    </tr>\n",
              "    <tr>\n",
              "      <th>9999</th>\n",
              "      <td>792</td>\n",
              "      <td>France</td>\n",
              "      <td>Female</td>\n",
              "      <td>28</td>\n",
              "      <td>4</td>\n",
              "      <td>130142.79</td>\n",
              "      <td>1</td>\n",
              "      <td>1</td>\n",
              "      <td>0</td>\n",
              "      <td>38190.78</td>\n",
              "    </tr>\n",
              "  </tbody>\n",
              "</table>\n",
              "</div>"
            ],
            "text/plain": [
              "      CreditScore Geography  Gender  ...  HasCrCard  IsActiveMember  EstimatedSalary\n",
              "9995          771    France    Male  ...          1               0         96270.64\n",
              "9996          516    France    Male  ...          1               1        101699.77\n",
              "9997          709    France  Female  ...          0               1         42085.58\n",
              "9998          772   Germany    Male  ...          1               0         92888.52\n",
              "9999          792    France  Female  ...          1               0         38190.78\n",
              "\n",
              "[5 rows x 10 columns]"
            ]
          },
          "metadata": {},
          "execution_count": 379
        }
      ]
    },
    {
      "cell_type": "markdown",
      "metadata": {
        "id": "4YGFvUUIfk91"
      },
      "source": [
        "#Bước 2: chuẩn hóa các cột dữ liệu thuộc dạng không có tình thứ tự (dữ liệu rời rạc) thành dạng One Hot Encoding"
      ]
    },
    {
      "cell_type": "code",
      "metadata": {
        "id": "mr6v3xuqfb-k"
      },
      "source": [
        "from sklearn.preprocessing import OneHotEncoder,LabelEncoder, Normalizer\n",
        "from sklearn.compose import ColumnTransformer\n",
        "import numpy as np"
      ],
      "execution_count": 380,
      "outputs": []
    },
    {
      "cell_type": "code",
      "metadata": {
        "id": "01vQ4Z9Xfh1G"
      },
      "source": [
        "le_1 = LabelEncoder()\n",
        "x.iloc[:,1] = le_2.fit_transform(x.iloc[:,1])\n",
        "le_2 = LabelEncoder()\n",
        "x.iloc[:,2] = le_2.fit_transform(x.iloc[:,2])"
      ],
      "execution_count": 381,
      "outputs": []
    },
    {
      "cell_type": "code",
      "metadata": {
        "id": "dkpJ037UkJGe"
      },
      "source": [
        "columnTransfer = ColumnTransformer([('encoder', OneHotEncoder(),[1,2])],remainder = 'passthrough')\n",
        "x = np.array(columnTransfer.fit_transform(x))"
      ],
      "execution_count": 382,
      "outputs": []
    },
    {
      "cell_type": "code",
      "metadata": {
        "colab": {
          "base_uri": "https://localhost:8080/"
        },
        "id": "CcTyEst6mgbC",
        "outputId": "0dfd1f56-d606-4a39-d923-7cc310b1d030"
      },
      "source": [
        "x[0]"
      ],
      "execution_count": 383,
      "outputs": [
        {
          "output_type": "execute_result",
          "data": {
            "text/plain": [
              "array([1.0000000e+00, 0.0000000e+00, 0.0000000e+00, 1.0000000e+00,\n",
              "       0.0000000e+00, 6.1900000e+02, 4.2000000e+01, 2.0000000e+00,\n",
              "       0.0000000e+00, 1.0000000e+00, 1.0000000e+00, 1.0000000e+00,\n",
              "       1.0134888e+05])"
            ]
          },
          "metadata": {},
          "execution_count": 383
        }
      ]
    },
    {
      "cell_type": "markdown",
      "metadata": {
        "id": "me6wxm2kjPlt"
      },
      "source": [
        "#Bước 3: Chia dữ liệu ra làm 2 tập train và test "
      ]
    },
    {
      "cell_type": "code",
      "metadata": {
        "id": "7vTI7DJajgol"
      },
      "source": [
        "from sklearn.model_selection import train_test_split"
      ],
      "execution_count": 384,
      "outputs": []
    },
    {
      "cell_type": "code",
      "metadata": {
        "id": "kbCJUgfvjpkq"
      },
      "source": [
        "x_train, x_test, y_train, y_test = train_test_split(x,y,test_size = 0.2)"
      ],
      "execution_count": 385,
      "outputs": []
    },
    {
      "cell_type": "markdown",
      "metadata": {
        "id": "h2_6mtatoFMW"
      },
      "source": [
        "#Bước 4: Chuẩn hóa dữ liệu train bằng standard scaler"
      ]
    },
    {
      "cell_type": "code",
      "metadata": {
        "id": "OQXdxwzdoGY8"
      },
      "source": [
        "from sklearn.preprocessing import StandardScaler"
      ],
      "execution_count": 386,
      "outputs": []
    },
    {
      "cell_type": "code",
      "metadata": {
        "id": "OXMIcdpOod-O"
      },
      "source": [
        "scaler = StandardScaler()\n",
        "x_train = scaler.fit_transform(x_train)\n",
        "x_test = scaler.transform(x_test)"
      ],
      "execution_count": 387,
      "outputs": []
    },
    {
      "cell_type": "markdown",
      "metadata": {
        "id": "c2AnPKs_o7Ce"
      },
      "source": [
        "#Bước 5: Xây dựng mô hình Mạng Neural Network bằng thư viện Keras và lớp đối tượng Dense"
      ]
    },
    {
      "cell_type": "code",
      "metadata": {
        "id": "5t5N5zEUo_BS"
      },
      "source": [
        "import torch\n",
        "from torch import nn"
      ],
      "execution_count": 388,
      "outputs": []
    },
    {
      "cell_type": "code",
      "metadata": {
        "colab": {
          "base_uri": "https://localhost:8080/"
        },
        "id": "uJ6lCucKqKTb",
        "outputId": "2d93242a-6193-43cb-92de-e532a5c56817"
      },
      "source": [
        "num_features = x_train.shape[1]\n",
        "num_output = 1\n",
        "num_features,num_output"
      ],
      "execution_count": 389,
      "outputs": [
        {
          "output_type": "execute_result",
          "data": {
            "text/plain": [
              "(13, 1)"
            ]
          },
          "metadata": {},
          "execution_count": 389
        }
      ]
    },
    {
      "cell_type": "code",
      "metadata": {
        "id": "mlGXjwd0p1ad"
      },
      "source": [
        "net = nn.Sequential(nn.Linear(num_features,6),nn.ReLU(),nn.Linear(6,1),nn.Sigmoid())"
      ],
      "execution_count": 390,
      "outputs": []
    },
    {
      "cell_type": "code",
      "metadata": {
        "colab": {
          "base_uri": "https://localhost:8080/"
        },
        "id": "Shbu3FZ1ttd1",
        "outputId": "071585da-3f09-411b-a178-0339817ad54c"
      },
      "source": [
        "net.eval()"
      ],
      "execution_count": 391,
      "outputs": [
        {
          "output_type": "execute_result",
          "data": {
            "text/plain": [
              "Sequential(\n",
              "  (0): Linear(in_features=13, out_features=6, bias=True)\n",
              "  (1): ReLU()\n",
              "  (2): Linear(in_features=6, out_features=1, bias=True)\n",
              "  (3): Sigmoid()\n",
              ")"
            ]
          },
          "metadata": {},
          "execution_count": 391
        }
      ]
    },
    {
      "cell_type": "markdown",
      "metadata": {
        "id": "tVpy8o4bvf4Y"
      },
      "source": [
        "#Bước 6: huấn luyện mạng với thuật toán Adam sử dụng hàm độ lỗi Binary Cross Entropy"
      ]
    },
    {
      "cell_type": "code",
      "metadata": {
        "id": "7pz0xkiWuqHm"
      },
      "source": [
        "x_train=torch.from_numpy(x_train.astype(np.float32))\n",
        "x_test=torch.from_numpy(x_test.astype(np.float32))\n",
        "y_train=torch.from_numpy(y_train.to_numpy().reshape(-1,1).astype(np.float32))\n",
        "y_test=torch.from_numpy(y_test.to_numpy().reshape(-1,1).astype(np.float32))"
      ],
      "execution_count": 392,
      "outputs": []
    },
    {
      "cell_type": "code",
      "metadata": {
        "id": "A_VHMJ1GvIWS"
      },
      "source": [
        "num_iters = 10000"
      ],
      "execution_count": 393,
      "outputs": []
    },
    {
      "cell_type": "code",
      "metadata": {
        "id": "hwU7Q0u_t2u8"
      },
      "source": [
        "criterion = torch.nn.BCELoss()\n",
        "optimizer = torch.optim.Adam(net.parameters(),lr=0.3)"
      ],
      "execution_count": 394,
      "outputs": []
    },
    {
      "cell_type": "code",
      "metadata": {
        "colab": {
          "base_uri": "https://localhost:8080/"
        },
        "id": "SdqNIhX9vnLe",
        "outputId": "ffc409fe-0873-4b10-b555-6f3d5721874d"
      },
      "source": [
        "for iter in range(num_iters):\n",
        "  optimizer.zero_grad()\n",
        "  outputs = net(x_train)\n",
        "  loss = criterion(outputs,y_train)\n",
        "  loss.backward()\n",
        "  optimizer.step()\n",
        "\n",
        "  if iter%1000 == 0:\n",
        "    print('loss: ', loss.item())"
      ],
      "execution_count": 395,
      "outputs": [
        {
          "output_type": "stream",
          "name": "stdout",
          "text": [
            "loss:  0.6502276659011841\n",
            "loss:  0.3303644359111786\n",
            "loss:  0.3298073410987854\n",
            "loss:  0.3309177756309509\n",
            "loss:  0.3301394581794739\n",
            "loss:  0.330552875995636\n",
            "loss:  0.3307734727859497\n",
            "loss:  0.3297865688800812\n",
            "loss:  0.32976245880126953\n",
            "loss:  0.33129358291625977\n"
          ]
        }
      ]
    },
    {
      "cell_type": "markdown",
      "metadata": {
        "id": "dBmVTQT9zHiY"
      },
      "source": [
        "#Bước 7: test và đánh giá kết quả"
      ]
    },
    {
      "cell_type": "code",
      "metadata": {
        "colab": {
          "base_uri": "https://localhost:8080/"
        },
        "id": "4X26IXPvzLZR",
        "outputId": "7a86800e-1373-4efe-aefa-b79fb40784e5"
      },
      "source": [
        "with torch.no_grad():\n",
        "  y_train_pred = net(x_train).round()\n",
        "  y_test_pred = net(x_test).round()\n",
        "print('Train accuracy: ', ((y_train_pred == y_train).sum() / len(y_train)).numpy())\n",
        "print('Test accuracy: ', ((y_test_pred == y_test).sum() / len(y_test)).numpy())"
      ],
      "execution_count": 396,
      "outputs": [
        {
          "output_type": "stream",
          "name": "stdout",
          "text": [
            "Train accuracy:  0.864\n",
            "Test accuracy:  0.8595\n"
          ]
        }
      ]
    },
    {
      "cell_type": "markdown",
      "metadata": {
        "id": "mtFiNCXS4PJo"
      },
      "source": [
        "#Bước 8: đánh giá độ chính xác bằng phương pháp KFold Cross Validation"
      ]
    },
    {
      "cell_type": "code",
      "metadata": {
        "id": "Oz1LT-kL4R3t"
      },
      "source": [
        "from sklearn.model_selection import KFold\n",
        "def evaluation_kfold(X,y):\n",
        "  kf = KFold(n_splits=5)\n",
        "  train_accuracies = []\n",
        "  val_accuracies = []\n",
        "  for train_index, val_index in kf.split(X):\n",
        "\n",
        "    x_train, x_test = X[train_index], X[val_index]\n",
        "    y_train, y_test = y[train_index], y[val_index]\n",
        "    \n",
        "    scaler = StandardScaler()\n",
        "    scaler = scaler.fit(x_train)\n",
        "    x_train = scaler.transform(x_train)\n",
        "    x_test = scaler.transform(x_test)\n",
        "\n",
        "    x_train=torch.from_numpy(x_train.astype(np.float32))\n",
        "    x_test=torch.from_numpy(x_test.astype(np.float32))\n",
        "    y_train=torch.from_numpy(y_train.to_numpy().reshape(-1,1).astype(np.float32))\n",
        "    y_test=torch.from_numpy(y_test.to_numpy().reshape(-1,1).astype(np.float32))\n",
        "\n",
        "    net = nn.Sequential(nn.Linear(num_features,6),nn.ReLU(),nn.Linear(6,1),nn.Sigmoid())\n",
        "    \n",
        "    criterion = torch.nn.BCELoss()\n",
        "    optimizer = torch.optim.Adam(net.parameters(),lr=0.3)\n",
        "    \n",
        "    for iter in range(1000):\n",
        "      optimizer.zero_grad()\n",
        "      outputs = net(x_train)\n",
        "      loss = criterion(outputs,y_train)\n",
        "      loss.backward()\n",
        "      optimizer.step()\n",
        "\n",
        "    with torch.no_grad():\n",
        "      y_train_pred = net(x_train).round()\n",
        "      y_test_pred = net(x_test).round()\n",
        "\n",
        "    train_accuracies.append( ((y_train_pred == y_train).sum() / len(y_train)).numpy())\n",
        "    val_accuracies.append(((y_test_pred == y_test).sum() / len(y_test)).numpy())\n",
        "  \n",
        "  print('Train accuracy: ',np.mean(train_accuracies))\n",
        "  print('Validation accuracy: ',np.mean(val_accuracies))"
      ],
      "execution_count": 397,
      "outputs": []
    },
    {
      "cell_type": "code",
      "metadata": {
        "colab": {
          "base_uri": "https://localhost:8080/"
        },
        "id": "DT4JDQsH5eqz",
        "outputId": "f49d5094-30be-4ff7-d59c-e9b2d31e3b1b"
      },
      "source": [
        "evaluation_kfold(x,y)"
      ],
      "execution_count": 398,
      "outputs": [
        {
          "output_type": "stream",
          "name": "stdout",
          "text": [
            "Train accuracy:  0.86254996\n",
            "Validation accuracy:  0.85950005\n"
          ]
        }
      ]
    }
  ]
}